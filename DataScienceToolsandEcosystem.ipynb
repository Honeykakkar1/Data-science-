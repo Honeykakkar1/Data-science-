{
 "cells": [
  {
   "cell_type": "markdown",
   "id": "8b823cc4-c952-4d6c-8cf6-be268521c8d1",
   "metadata": {},
   "source": [
    "# Data Science Tools and Ecosystem"
   ]
  },
  {
   "cell_type": "markdown",
   "id": "a674d1db-2ba7-4a06-b239-765236ac58ba",
   "metadata": {},
   "source": [
    "In this Notebook, Data Science Tools and Ecosystem are summarized"
   ]
  },
  {
   "cell_type": "markdown",
   "id": "fcf5364b-02ad-4cae-957a-e92c6146c50e",
   "metadata": {
    "tags": []
   },
   "source": [
    "Some of the most popular languages that Data Scientists use are:\n",
    "1. Python\n",
    "2. R\n",
    "3. SQl\n",
    "4. C++\n",
    "5. Java etc..;\n"
   ]
  },
  {
   "cell_type": "markdown",
   "id": "85ec6513-7878-4fa5-aa80-5b37277e359f",
   "metadata": {},
   "source": [
    "Some of the commonly used libraries used by Data Scientists include:\n",
    "1. Tensorflow\n",
    "2. Numpy\n",
    "3. Scipy\n",
    "4. Pandas\n",
    "5. Matplotlib\n",
    "6. Keras\n",
    "7. SciKit-learn\n",
    "8. pytorch.etc..;"
   ]
  },
  {
   "cell_type": "markdown",
   "id": "cf17f489-3860-48c4-89a5-d48e05cf5baf",
   "metadata": {},
   "source": [
    "|Data Science Tools|\n",
    "|---|\n",
    "|SAS|\n",
    "|Apache Hadoop|\n",
    "|TensorFlow|"
   ]
  },
  {
   "cell_type": "markdown",
   "id": "3d2318f6-51e7-410b-b861-4b59b537b944",
   "metadata": {},
   "source": [
    "### Below are a few examples of evaluating arithmetic expressions in Python."
   ]
  },
  {
   "cell_type": "code",
   "execution_count": 3,
   "id": "3eb1c57d-ed05-4685-8d2e-eac3494cb59a",
   "metadata": {
    "tags": []
   },
   "outputs": [
    {
     "data": {
      "text/plain": [
       "17"
      ]
     },
     "execution_count": 3,
     "metadata": {},
     "output_type": "execute_result"
    }
   ],
   "source": [
    "#this is a common arrithmetic example to multiply and then add integers\n",
    "(3*4)+5"
   ]
  },
  {
   "cell_type": "code",
   "execution_count": 4,
   "id": "d729dac5-92e8-4651-8f05-3d9ea73b6660",
   "metadata": {
    "tags": []
   },
   "outputs": [
    {
     "data": {
      "text/plain": [
       "3.3333333333333335"
      ]
     },
     "execution_count": 4,
     "metadata": {},
     "output_type": "execute_result"
    }
   ],
   "source": [
    "#This will convert 200 minutes to hours by dividing by 60\n",
    "200/60"
   ]
  },
  {
   "cell_type": "markdown",
   "id": "fdd16b14-f480-46cf-88e0-91bcec475a7b",
   "metadata": {},
   "source": [
    " __Objective__\n",
    "* List popular languages for Data Science\n",
    "* List popular libraries for Data Science\n",
    "* List of well known Data Science Tools\n",
    "* How to Provide comments in the cell"
   ]
  },
  {
   "cell_type": "markdown",
   "id": "e01d531c-6530-47f4-9bb1-947457e97b9b",
   "metadata": {},
   "source": [
    "## Author\n",
    "Honey Kakkar"
   ]
  }
 ],
 "metadata": {
  "kernelspec": {
   "display_name": "Python",
   "language": "python",
   "name": "conda-env-python-py"
  },
  "language_info": {
   "codemirror_mode": {
    "name": "ipython",
    "version": 3
   },
   "file_extension": ".py",
   "mimetype": "text/x-python",
   "name": "python",
   "nbconvert_exporter": "python",
   "pygments_lexer": "ipython3",
   "version": "3.7.12"
  }
 },
 "nbformat": 4,
 "nbformat_minor": 5
}
